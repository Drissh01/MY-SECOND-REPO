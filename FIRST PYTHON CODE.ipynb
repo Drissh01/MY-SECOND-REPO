{
 "cells": [
  {
   "cell_type": "markdown",
   "id": "d9bf813e-be87-4877-8679-30b53105fca3",
   "metadata": {},
   "source": [
    " Welcome to my first python programming class (setup intallation)\n",
    "# heading 1\n",
    "## headig 2\n",
    "### Heading 3\n",
    "#### headig 4\n",
    "##### headig 5\n",
    "###### headig 6\n"
   ]
  },
  {
   "cell_type": "code",
   "execution_count": 3,
   "id": "a69cd69d-195f-4afa-9b78-8f521d15cbaa",
   "metadata": {},
   "outputs": [
    {
     "name": "stdout",
     "output_type": "stream",
     "text": [
      "Hello World\n"
     ]
    }
   ],
   "source": [
    "print(\"Hello World\")"
   ]
  },
  {
   "cell_type": "code",
   "execution_count": 3,
   "id": "a074fe08-859d-4f7b-a35c-59dcc9467ae7",
   "metadata": {},
   "outputs": [
    {
     "name": "stdout",
     "output_type": "stream",
     "text": [
      "drissh\n"
     ]
    }
   ],
   "source": [
    "print(\"drissh\")"
   ]
  },
  {
   "cell_type": "markdown",
   "id": "91727849-8b1c-419c-8f15-9ceea3bcade3",
   "metadata": {},
   "source": [
    "# what is python"
   ]
  },
  {
   "cell_type": "code",
   "execution_count": 4,
   "id": "e7d4de9f-152f-49fd-a0f2-d80dcde53a2f",
   "metadata": {},
   "outputs": [
    {
     "name": "stdout",
     "output_type": "stream",
     "text": [
      "Welcome to class\n"
     ]
    }
   ],
   "source": [
    "print(\"Welcome to class\")"
   ]
  },
  {
   "cell_type": "code",
   "execution_count": null,
   "id": "8a9dbe91-cef5-499c-b971-41a7ec56c0cd",
   "metadata": {},
   "outputs": [],
   "source": []
  }
 ],
 "metadata": {
  "kernelspec": {
   "display_name": "Python 3 (ipykernel)",
   "language": "python",
   "name": "python3"
  },
  "language_info": {
   "codemirror_mode": {
    "name": "ipython",
    "version": 3
   },
   "file_extension": ".py",
   "mimetype": "text/x-python",
   "name": "python",
   "nbconvert_exporter": "python",
   "pygments_lexer": "ipython3",
   "version": "3.12.7"
  }
 },
 "nbformat": 4,
 "nbformat_minor": 5
}
